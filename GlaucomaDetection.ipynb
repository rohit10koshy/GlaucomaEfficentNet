{
 "cells": [
  {
   "cell_type": "code",
   "execution_count": null,
   "id": "65b440aa",
   "metadata": {
    "vscode": {
     "languageId": "plaintext"
    }
   },
   "outputs": [],
   "source": [
    "from google.colab import drive\n",
    "drive.mount('/content/drive')\n",
    "\n",
    "import cv2\n",
    "from sklearn.utils import class_weight\n",
    "import numpy as np\n",
    "import seaborn as sns\n",
    "import matplotlib.pyplot as plt\n",
    "\n",
    "from glob import glob\n",
    "from sklearn.metrics import confusion_matrix, roc_curve\n",
    "\n",
    "from tensorflow.keras.preprocessing import image\n",
    "from tensorflow.keras.models import Model\n",
    "from tensorflow.keras.applications import EfficientNetB0\n",
    "from tensorflow.keras.preprocessing.image import ImageDataGenerator\n",
    "from tensorflow.keras.layers import Dense, GlobalAveragePooling2D, Dropout\n",
    "from tensorflow.keras.callbacks import EarlyStopping, ReduceLROnPlateau\n",
    "from tensorflow.keras.utils import to_categorical"
   ]
  },
  {
   "cell_type": "code",
   "execution_count": null,
   "id": "c00c1017",
   "metadata": {
    "vscode": {
     "languageId": "plaintext"
    }
   },
   "outputs": [],
   "source": [
    "train_data_dir = '/content/drive/My Drive/Fundus_Scanes_Sorted/Train'\n",
    "val_data_dir = '/content/drive/My Drive/Fundus_Scanes_Sorted/Validation'"
   ]
  },
  {
   "cell_type": "code",
   "execution_count": null,
   "id": "60b6e5c2",
   "metadata": {
    "vscode": {
     "languageId": "plaintext"
    }
   },
   "outputs": [],
   "source": [
    "IMAGE_SIZE = 224\n",
    "\n",
    "# training config:\n",
    "epochs = 10\n",
    "batch_size = 32\n",
    "normalization_factor = 255\n",
    "\n",
    "#define paths\n",
    "glaucoma_positive_train_path = '/content/drive/My Drive/Glaucoma_Detection/Dataset/Train/Glaucoma_Positive'\n",
    "glaucoma_negative_train_path = '/content/drive/My Drive/Glaucoma_Detection/Dataset/Train/Glaucoma_Negative'\n",
    "\n",
    "glaucoma_positive_test_path = '/content/drive/My Drive/Glaucoma_Detection/Dataset/Test/Glaucoma_Positive'\n",
    "glaucoma_negative_test_path = '/content/drive/My Drive/Glaucoma_Detection/Dataset/Test/Glaucoma_Negative'\n",
    "\n",
    "# Use glob to grab images from path .jpg or jpeg\n",
    "glaucoma_positive_train_files = glob(glaucoma_positive_train_path + '/*')\n",
    "glaucoma_negative_train_files = glob(glaucoma_negative_train_path + '/*')\n",
    "\n",
    "glaucoma_positive_test_files = glob(glaucoma_positive_test_path + '/*')\n",
    "glaucoma_negative_test_files = glob(glaucoma_negative_test_path + '/*')"
   ]
  },
  {
   "cell_type": "code",
   "execution_count": null,
   "id": "81c12030",
   "metadata": {
    "vscode": {
     "languageId": "plaintext"
    }
   },
   "outputs": [],
   "source": [
    "glaucoma_positive_train_files = glob(glaucoma_positive_train_path + '/*')\n",
    "glaucoma_negative_train_files = glob(glaucoma_negative_train_path + '/*')\n",
    "glaucoma_positive_test_files = glob(glaucoma_positive_test_path + '/*')\n",
    "glaucoma_negative_test_files = glob(glaucoma_negative_test_path + '/*')\n",
    "\n",
    "glaucoma_positive_train_images = []\n",
    "glaucoma_negative_train_images = []\n",
    "glaucoma_positive_test_images = []\n",
    "glaucoma_negative_test_images = []\n",
    "\n",
    "for file in glaucoma_positive_train_files:\n",
    "    img = cv2.imread(file)\n",
    "    img = cv2.cvtColor(img, cv2.COLOR_BGR2RGB)\n",
    "    img = cv2.resize(img,(IMAGE_SIZE, IMAGE_SIZE))\n",
    "    glaucoma_positive_train_images.append(img)\n",
    "\n",
    "for file in glaucoma_negative_train_files:\n",
    "    img = cv2.imread(file)\n",
    "    img = cv2.cvtColor(img, cv2.COLOR_BGR2RGB)\n",
    "    img = cv2.resize(img,(IMAGE_SIZE, IMAGE_SIZE))\n",
    "    glaucoma_negative_train_images.append(img)\n",
    "\n",
    "for file in glaucoma_positive_test_files:\n",
    "    img = cv2.imread(file)\n",
    "    img = cv2.cvtColor(img, cv2.COLOR_BGR2RGB)\n",
    "    img = cv2.resize(img,(IMAGE_SIZE, IMAGE_SIZE))\n",
    "    glaucoma_positive_test_images.append(img)\n",
    "\n",
    "for file in glaucoma_negative_test_files:\n",
    "    img = cv2.imread(file)\n",
    "    img = cv2.cvtColor(img, cv2.COLOR_BGR2RGB)\n",
    "    img = cv2.resize(img,(IMAGE_SIZE, IMAGE_SIZE))\n",
    "    glaucoma_negative_test_images.append(img)"
   ]
  },
  {
   "cell_type": "code",
   "execution_count": null,
   "id": "5bda0aba",
   "metadata": {
    "vscode": {
     "languageId": "plaintext"
    }
   },
   "outputs": [],
   "source": [
    "import os\n",
    "\n",
    "# Verify that the directories are correct and the images are present\n",
    "train_glaucoma_positive_dir = '/content/drive/My Drive/Fundus_Scanes_Sorted/Train/Glaucoma_Positive'\n",
    "train_glaucoma_negative_dir = '/content/drive/My Drive/Fundus_Scanes_Sorted/Train/Glaucoma_Negative'\n",
    "test_glaucoma_positive_dir = '/content/drive/My Drive/Fundus_Scanes_Sorted/Validation/Glaucoma_Positive'\n",
    "test_glaucoma_negative_dir = '/content/drive/My Drive/Fundus_Scanes_Sorted/Validation/Glaucoma_Negative'\n",
    "\n",
    "# List the images in each directory\n",
    "glaucoma_positive_train_images = os.listdir(train_glaucoma_positive_dir)\n",
    "glaucoma_negative_train_images = os.listdir(train_glaucoma_negative_dir)\n",
    "glaucoma_positive_test_images = os.listdir(test_glaucoma_positive_dir)\n",
    "glaucoma_negative_test_images = os.listdir(test_glaucoma_negative_dir)\n",
    "\n",
    "# Print the number of images in each folder\n",
    "print(f\"Glaucoma Positive Train Images: {len(glaucoma_positive_train_images)}\")\n",
    "print(f\"Glaucoma Negative Train Images: {len(glaucoma_negative_train_images)}\")\n",
    "print(f\"Glaucoma Positive Test Images: {len(glaucoma_positive_test_images)}\")\n",
    "print(f\"Glaucoma Negative Test Images: {len(glaucoma_negative_test_images)}\")"
   ]
  },
  {
   "cell_type": "code",
   "execution_count": null,
   "id": "ce061d5c",
   "metadata": {
    "vscode": {
     "languageId": "plaintext"
    }
   },
   "outputs": [],
   "source": [
    "from tensorflow.keras.preprocessing import image\n",
    "import numpy as np\n",
    "import matplotlib.pyplot as plt\n",
    "import os\n",
    "\n",
    "def plot_images(image_filenames, image_dir, title, max_images=20):\n",
    "    images = []\n",
    "\n",
    "    for fname in image_filenames[:max_images]:\n",
    "        img_path = os.path.join(image_dir, fname)\n",
    "        img = image.load_img(img_path, target_size=(224, 224))\n",
    "        img_array = image.img_to_array(img) / 255.0\n",
    "        images.append(img_array)\n",
    "\n",
    "    n = len(images)\n",
    "    nrows, ncols = (n // 4 + 1, 4)\n",
    "    fig, ax = plt.subplots(nrows=nrows, ncols=ncols, figsize=(12, 8))\n",
    "    ax = ax.flatten()\n",
    "\n",
    "    for i in range(n):\n",
    "        ax[i].imshow(images[i])\n",
    "        ax[i].axis('off')\n",
    "\n",
    "    plt.suptitle(title, fontsize=20)\n",
    "    plt.tight_layout()\n",
    "    plt.show()\n",
    "train_pos_dir = '/content/drive/My Drive/Fundus_Scanes_Sorted/Train/Glaucoma_Positive'\n",
    "train_neg_dir = '/content/drive/My Drive/Fundus_Scanes_Sorted/Train/Glaucoma_Negative'\n",
    "test_pos_dir = '/content/drive/My Drive/Fundus_Scanes_Sorted/Validation/Glaucoma_Positive'\n",
    "test_neg_dir = '/content/drive/My Drive/Fundus_Scanes_Sorted/Validation/Glaucoma_Negative'\n",
    "\n",
    "# Plot\n",
    "plot_images(glaucoma_positive_train_images, train_pos_dir, 'Glaucoma Positive Train')\n",
    "plot_images(glaucoma_negative_train_images, train_neg_dir, 'Glaucoma Negative Train')\n",
    "plot_images(glaucoma_positive_test_images, test_pos_dir, 'Glaucoma Positive Test')\n",
    "plot_images(glaucoma_negative_test_images, test_neg_dir, 'Glaucoma Negative Test')\n"
   ]
  },
  {
   "cell_type": "code",
   "execution_count": null,
   "id": "97086ad9",
   "metadata": {
    "vscode": {
     "languageId": "plaintext"
    }
   },
   "outputs": [],
   "source": [
    "from tensorflow.keras.preprocessing.image import load_img, img_to_array\n",
    "\n",
    "def load_and_preprocess_images(image_dir, image_filenames, target_size=(224, 224)):\n",
    "    images = []\n",
    "    for fname in image_filenames:\n",
    "        img_path = os.path.join(image_dir, fname)\n",
    "        img = load_img(img_path, target_size=target_size)\n",
    "        img_array = img_to_array(img) / 255.0  # Normalization to [0, 1]\n",
    "        images.append(img_array)\n",
    "    return np.array(images)\n",
    "\n",
    "train_pos_dir = '/content/drive/My Drive/Fundus_Scanes_Sorted/Train/Glaucoma_Positive'\n",
    "train_neg_dir = '/content/drive/My Drive/Fundus_Scanes_Sorted/Train/Glaucoma_Negative'\n",
    "test_pos_dir = '/content/drive/My Drive/Fundus_Scanes_Sorted/Validation/Glaucoma_Positive'\n",
    "test_neg_dir = '/content/drive/My Drive/Fundus_Scanes_Sorted/Validation/Glaucoma_Negative'\n",
    "\n",
    "# Load and normalize images\n",
    "glaucoma_positive_train_images = load_and_preprocess_images(train_pos_dir, glaucoma_positive_train_images)\n",
    "glaucoma_negative_train_images = load_and_preprocess_images(train_neg_dir, glaucoma_negative_train_images)\n",
    "glaucoma_positive_test_images = load_and_preprocess_images(test_pos_dir, glaucoma_positive_test_images)\n",
    "glaucoma_negative_test_images = load_and_preprocess_images(test_neg_dir, glaucoma_negative_test_images)"
   ]
  },
  {
   "cell_type": "code",
   "execution_count": null,
   "id": "67f69f5b",
   "metadata": {
    "vscode": {
     "languageId": "plaintext"
    }
   },
   "outputs": [],
   "source": [
    "glaucoma_negative_train_labels = [0] * len(glaucoma_negative_train_images)\n",
    "glaucoma_positive_train_labels = [1] * len(glaucoma_positive_train_images)\n",
    "\n",
    "glaucoma_negative_test_labels = [0] * len(glaucoma_negative_test_images)\n",
    "glaucoma_positive_test_labels = [1] * len(glaucoma_positive_test_images)\n",
    "\n",
    "# Combine images\n",
    "X_train = np.concatenate((glaucoma_negative_train_images, glaucoma_positive_train_images), axis=0)\n",
    "X_test = np.concatenate((glaucoma_negative_test_images, glaucoma_positive_test_images), axis=0)\n",
    "\n",
    "# Combine labels\n",
    "y_train = np.concatenate((glaucoma_negative_train_labels, glaucoma_positive_train_labels), axis=0)\n",
    "y_test = np.concatenate((glaucoma_negative_test_labels, glaucoma_positive_test_labels), axis=0)\n",
    "\n",
    "from tensorflow.keras.utils import to_categorical\n",
    "\n",
    "y_train = to_categorical(y_train, num_classes=2)\n",
    "y_test = to_categorical(y_test, num_classes=2)\n"
   ]
  },
  {
   "cell_type": "code",
   "execution_count": null,
   "id": "97bbad15",
   "metadata": {
    "vscode": {
     "languageId": "plaintext"
    }
   },
   "outputs": [],
   "source": [
    "# Convert one-hot labels back to class indices (0 or 1)\n",
    "y_train_labels = np.argmax(y_train, axis=1)\n",
    "\n",
    "# Compute weights: this gives higher importance to minority class\n",
    "class_weights = class_weight.compute_class_weight(\n",
    "    class_weight='balanced',\n",
    "    classes=np.unique(y_train_labels),\n",
    "    y=y_train_labels\n",
    ")\n",
    "\n",
    "# Format as a dictionary\n",
    "class_weights_dict = {i : class_weights[i] for i in range(len(class_weights))}\n",
    "print(\"Class Weights:\", class_weights_dict)\n"
   ]
  },
  {
   "cell_type": "code",
   "execution_count": null,
   "id": "7761fe30",
   "metadata": {
    "vscode": {
     "languageId": "plaintext"
    }
   },
   "outputs": [],
   "source": [
    "import matplotlib.pyplot as plt\n",
    "\n",
    "def plot_images(images, title, max_images=20):\n",
    "    n_images = min(len(images), max_images)\n",
    "    nrows, ncols = 4, 5  # 4x5 = 20 images\n",
    "    figsize = [12, 8]\n",
    "\n",
    "    fig, ax = plt.subplots(nrows=nrows, ncols=ncols, figsize=figsize, facecolor=(1, 1, 1))\n",
    "\n",
    "    for i, axi in enumerate(ax.flat):\n",
    "        if i < n_images:\n",
    "            axi.imshow(images[i])\n",
    "        else:\n",
    "            axi.axis('off')\n",
    "        axi.set_axis_off()\n",
    "\n",
    "    plt.suptitle(title, fontsize=20)\n",
    "    plt.tight_layout(pad=0.5, rect=[0, 0, 1, 0.95])\n",
    "    plt.show()\n"
   ]
  },
  {
   "cell_type": "code",
   "execution_count": null,
   "id": "051f9994",
   "metadata": {
    "vscode": {
     "languageId": "plaintext"
    }
   },
   "outputs": [],
   "source": [
    "base_model = EfficientNetB0(\n",
    "    weights=\"imagenet\",\n",
    "    include_top=False,\n",
    "    input_shape=(IMAGE_SIZE, IMAGE_SIZE, 3)\n",
    ")\n",
    "\n",
    "# Replace Flatten with GlobalAveragePooling2D\n",
    "x = base_model.output\n",
    "x = GlobalAveragePooling2D()(x)\n",
    "x = Dropout(0.5)(x)\n",
    "predictions = Dense(2, activation=\"softmax\")(x)\n",
    "\n",
    "model = Model(inputs=base_model.input, outputs=predictions)\n",
    "\n",
    "# Unfreeze more than 50 layers to better learn retinal features\n",
    "for layer in base_model.layers[-100:]:\n",
    "    layer.trainable = True\n",
    " # Freeze all layers initially\n",
    "\n",
    "from tensorflow.keras.optimizers import Adam\n",
    "\n",
    "model.compile(\n",
    "    optimizer=Adam(learning_rate=1e-5),\n",
    "    loss='categorical_crossentropy',\n",
    "    metrics=['accuracy', 'AUC']  # Add AUC metric\n",
    ")\n",
    "model.summary()"
   ]
  },
  {
   "cell_type": "code",
   "execution_count": null,
   "id": "d515c252",
   "metadata": {
    "vscode": {
     "languageId": "plaintext"
    }
   },
   "outputs": [],
   "source": [
    "steps_per_epoch = len(X_train) // batch_size\n",
    "validation_steps = len(X_test) // batch_size"
   ]
  },
  {
   "cell_type": "code",
   "execution_count": null,
   "id": "6eefd1c5",
   "metadata": {
    "vscode": {
     "languageId": "plaintext"
    }
   },
   "outputs": [],
   "source": [
    "train_datagen = ImageDataGenerator(\n",
    "    rotation_range=40,\n",
    "    width_shift_range=0.3,\n",
    "    height_shift_range=0.3,\n",
    "    shear_range=0.2,\n",
    "    zoom_range=0.2,\n",
    "    horizontal_flip=True,\n",
    "    vertical_flip=True,  # Critical for fundus images\n",
    "    fill_mode='nearest'\n",
    ")"
   ]
  },
  {
   "cell_type": "code",
   "execution_count": null,
   "id": "d3461e37",
   "metadata": {
    "vscode": {
     "languageId": "plaintext"
    }
   },
   "outputs": [],
   "source": [
    "early_stop = EarlyStopping(monitor='val_accuracy', patience=15, restore_best_weights=True)\n",
    "reduce_lr = ReduceLROnPlateau(monitor='val_loss', factor=0.3, patience=5, min_lr=1e-6)\n",
    "\n",
    "history_fine = model.fit(\n",
    "    train_datagen.flow(X_train, y_train, batch_size=batch_size),\n",
    "    validation_data=(X_test, y_test),\n",
    "    steps_per_epoch=len(X_train) // batch_size,\n",
    "    epochs=20,\n",
    "    callbacks=[early_stop, reduce_lr],\n",
    "    class_weight=class_weights_dict,  # <-- 👈 KEY FIX\n",
    "    verbose=1\n",
    ")"
   ]
  },
  {
   "cell_type": "code",
   "execution_count": null,
   "id": "49287921",
   "metadata": {
    "vscode": {
     "languageId": "plaintext"
    }
   },
   "outputs": [],
   "source": [
    "# Unfreeze top 50 layers\n",
    "for layer in base_model.layers[-50:]:\n",
    "    layer.trainable = True\n",
    "\n",
    "# Recompile with lower learning rate\n",
    "model.compile(\n",
    "    optimizer=tf.keras.optimizers.Adam(1e-5),\n",
    "    loss='categorical_crossentropy',\n",
    "    metrics=['accuracy']\n",
    ")\n",
    "\n",
    "# Continue training\n",
    "history_fine = model.fit(\n",
    "    train_datagen.flow(X_train, y_train, batch_size=batch_size),\n",
    "    validation_data=(X_test, y_test),\n",
    "    steps_per_epoch=len(X_train) // batch_size,\n",
    "    epochs=20,  # Fine-tuning epochs\n",
    "    callbacks=[early_stop, reduce_lr],\n",
    "    verbose=1\n",
    ")"
   ]
  },
  {
   "cell_type": "code",
   "execution_count": null,
   "id": "4527988e",
   "metadata": {
    "vscode": {
     "languageId": "plaintext"
    }
   },
   "outputs": [],
   "source": [
    "loss, accuracy = model.evaluate(X_test, y_test)\n",
    "print(f\"Validation Accuracy: {accuracy*100:.2f}%\")\n",
    "\n",
    "y_pred = model.predict(X_test, batch_size=batch_size)\n",
    "\n",
    "# Prediction visualization (first 10 images)\n",
    "for i in range(10):\n",
    "    plt.imshow(X_test[i])\n",
    "    prob = y_pred[i][1]\n",
    "    if prob > 0.5:\n",
    "        plt.title(f\"{prob*100:.1f}% Glaucoma Positive\")\n",
    "    else:\n",
    "        plt.title(f\"{(1-prob)*100:.1f}% Glaucoma Negative\")\n",
    "    plt.show()\n",
    "\n",
    "# Confusion Matrix\n",
    "y_pred_bin = np.argmax(y_pred, axis=1)\n",
    "y_test_bin = np.argmax(y_test, axis=1)\n",
    "\n",
    "cm = confusion_matrix(y_test_bin, y_pred_bin)\n",
    "sns.heatmap(cm, annot=True, fmt='d', cmap='plasma')\n",
    "plt.xticks([0.5,1.5], ['Glaucoma Negative','Glaucoma Positive'])\n",
    "plt.yticks([0.5,1.5], ['Glaucoma Negative','Glaucoma Positive'])\n",
    "plt.title('Confusion Matrix')\n",
    "plt.show()\n",
    "\n",
    "# ROC Curve\n",
    "fpr, tpr, _ = roc_curve(y_test_bin, y_pred[:,1])\n",
    "plt.plot(fpr, tpr)\n",
    "plt.title('ROC Curve')\n",
    "plt.xlabel('False Positive Rate')\n",
    "plt.ylabel('True Positive Rate')\n",
    "plt.grid(True)\n",
    "plt.show()\n",
    "\n",
    "# Classification Report\n",
    "print(classification_report(y_test_bin, y_pred_bin,\n",
    "                           target_names=['Glaucoma Negative', 'Glaucoma Positive']))"
   ]
  },
  {
   "cell_type": "code",
   "execution_count": null,
   "id": "3e49fc69",
   "metadata": {
    "vscode": {
     "languageId": "plaintext"
    }
   },
   "outputs": [],
   "source": [
    "y_pred_bin = np.argmax(y_pred, axis=1)\n",
    "y_test_bin = np.argmax(y_test, axis=1)"
   ]
  },
  {
   "cell_type": "code",
   "execution_count": null,
   "id": "57119e67",
   "metadata": {
    "vscode": {
     "languageId": "plaintext"
    }
   },
   "outputs": [],
   "source": [
    "fpr, tpr, thresholds = roc_curve(y_test_bin, y_pred_bin)\n",
    "plt.plot(fpr, tpr)\n",
    "plt.xlim([0.0, 1.0])\n",
    "plt.ylim([0.0, 1.0])\n",
    "plt.rcParams['font.size'] = 12\n",
    "plt.title('ROC curve for our model')\n",
    "plt.xlabel('False Positive Rate')\n",
    "plt.ylabel('True Positive Rate')\n",
    "plt.grid(True)"
   ]
  },
  {
   "cell_type": "code",
   "execution_count": null,
   "id": "c5e6ff39",
   "metadata": {
    "vscode": {
     "languageId": "plaintext"
    }
   },
   "outputs": [],
   "source": [
    "def plot_confusion_matrix(normalize):\n",
    "  classes = ['Glaucoma Positive','Glaucoma Negative']\n",
    "  tick_marks = [0.5,1.5]\n",
    "  cn = confusion_matrix(y_test_bin, y_pred_bin,normalize=normalize)\n",
    "  sns.heatmap(cn,cmap='plasma',annot=True)\n",
    "  plt.xticks(tick_marks, classes)\n",
    "  plt.yticks(tick_marks, classes)\n",
    "  plt.title('Confusion Matrix')\n",
    "  plt.ylabel('True label')\n",
    "  plt.xlabel('Predicted label')\n",
    "  plt.show()\n",
    "\n",
    "print('Confusion Matrix without Normalization')\n",
    "plot_confusion_matrix(normalize=None)\n",
    "\n",
    "print('Confusion Matrix with Normalized Values')\n",
    "plot_confusion_matrix(normalize='true')"
   ]
  },
  {
   "cell_type": "code",
   "execution_count": null,
   "id": "ca8c178f",
   "metadata": {
    "vscode": {
     "languageId": "plaintext"
    }
   },
   "outputs": [],
   "source": [
    "from sklearn.metrics import classification_report\n",
    "print(classification_report(y_test_bin, y_pred_bin))"
   ]
  },
  {
   "cell_type": "code",
   "execution_count": null,
   "id": "368960e1",
   "metadata": {
    "vscode": {
     "languageId": "plaintext"
    }
   },
   "outputs": [],
   "source": [
    "plt.figure(figsize=(10,10))\n",
    "\n",
    "plt.plot(history.history['accuracy'])\n",
    "plt.plot(history.history['val_accuracy'])\n",
    "\n",
    "plt.title('Model Accuracy')\n",
    "plt.ylabel('Accuracy')\n",
    "plt.xlabel('Epoch')\n",
    "\n",
    "plt.legend(['Training', 'Testing'])\n",
    "plt.savefig('inception_resnet_v2_glaucoma_accuracy.png')\n",
    "plt.show()"
   ]
  },
  {
   "cell_type": "code",
   "execution_count": null,
   "id": "cb54d94b",
   "metadata": {
    "vscode": {
     "languageId": "plaintext"
    }
   },
   "outputs": [],
   "source": [
    "plt.figure(figsize=(10,10))\n",
    "\n",
    "plt.plot(history.history['loss'])\n",
    "plt.plot(history.history['val_loss'])\n",
    "\n",
    "plt.title('Model Loss')\n",
    "plt.ylabel('Loss')\n",
    "plt.xlabel('Epoch')\n",
    "\n",
    "plt.legend(['Training', 'Testing'])\n",
    "plt.savefig('inception_resnet_v2_glaucoma_loss.png')\n",
    "plt.show()"
   ]
  }
 ],
 "metadata": {
  "language_info": {
   "name": "python"
  }
 },
 "nbformat": 4,
 "nbformat_minor": 5
}
